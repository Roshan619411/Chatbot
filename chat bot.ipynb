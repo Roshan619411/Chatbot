{
 "cells": [
  {
   "cell_type": "code",
   "execution_count": 1,
   "metadata": {},
   "outputs": [],
   "source": [
    "import chatterbot\n"
   ]
  },
  {
   "cell_type": "markdown",
   "metadata": {},
   "source": [
    "library: chatterbot\n",
    "class: ChatBot\n",
    "functions: get_response,set_trainer(name of trainer),train"
   ]
  },
  {
   "cell_type": "code",
   "execution_count": 2,
   "metadata": {},
   "outputs": [],
   "source": [
    "from chatterbot import ChatBot"
   ]
  },
  {
   "cell_type": "code",
   "execution_count": 3,
   "metadata": {},
   "outputs": [],
   "source": [
    "\n",
    "bot = ChatBot('Chottu')\n",
    "from chatterbot.trainers import ChatterBotCorpusTrainer\n",
    "bot.set_trainer(ChatterBotCorpusTrainer)"
   ]
  },
  {
   "cell_type": "code",
   "execution_count": 4,
   "metadata": {},
   "outputs": [
    {
     "name": "stdout",
     "output_type": "stream",
     "text": [
      "ai.yml Training: [####################] 100%\n",
      "botprofile.yml Training: [####################] 100%\n",
      "computers.yml Training: [####################] 100%\n",
      "conversations.yml Training: [####################] 100%\n",
      "emotion.yml Training: [####################] 100%\n",
      "food.yml Training: [####################] 100%\n",
      "gossip.yml Training: [####################] 100%\n",
      "greetings.yml Training: [####################] 100%\n",
      "health.yml Training: [####################] 100%\n",
      "history.yml Training: [####################] 100%\n",
      "humor.yml Training: [####################] 100%\n",
      "literature.yml Training: [####################] 100%\n",
      "money.yml Training: [####################] 100%\n",
      "movies.yml Training: [####################] 100%\n",
      "politics.yml Training: [####################] 100%\n",
      "psychology.yml Training: [####################] 100%\n",
      "science.yml Training: [####################] 100%\n",
      "sports.yml Training: [####################] 100%\n",
      "trivia.yml Training: [####################] 100%\n"
     ]
    }
   ],
   "source": [
    "bot.train('chatterbot.corpus.english')"
   ]
  },
  {
   "cell_type": "code",
   "execution_count": null,
   "metadata": {},
   "outputs": [],
   "source": [
    "interaction part\n"
   ]
  },
  {
   "cell_type": "code",
   "execution_count": 5,
   "metadata": {},
   "outputs": [
    {
     "ename": "IndentationError",
     "evalue": "unexpected indent (<ipython-input-5-0891cf5ace50>, line 3)",
     "output_type": "error",
     "traceback": [
      "\u001b[1;36m  File \u001b[1;32m\"<ipython-input-5-0891cf5ace50>\"\u001b[1;36m, line \u001b[1;32m3\u001b[0m\n\u001b[1;33m    if((message=='bye') or (message=='Bye')):\u001b[0m\n\u001b[1;37m    ^\u001b[0m\n\u001b[1;31mIndentationError\u001b[0m\u001b[1;31m:\u001b[0m unexpected indent\n"
     ]
    }
   ],
   "source": [
    "while(True):\n",
    "    message=input('you: ') \n",
    "     if((message=='bye') or (message=='Bye')):\n",
    "        reply='Nice talking. See you later'\n",
    "        print('{}: {}'.format(bot.name,reply))\n",
    "        break\n",
    "    else:\n",
    "        reply=bot.get_response(message)\n",
    "        print('{}: {}'.format(bot.name,reply))"
   ]
  },
  {
   "cell_type": "code",
   "execution_count": 6,
   "metadata": {},
   "outputs": [
    {
     "name": "stdout",
     "output_type": "stream",
     "text": [
      "You: hi!\n",
      "Chottu: How are you doing?\n",
      "You: im fine \n",
      "Chottu: Why?\n",
      "You: how are you?\n",
      "Chottu: I am doing well.\n",
      "You: bye\n",
      "Chottu: Nice talking. See you later\n"
     ]
    }
   ],
   "source": [
    "while(True):\n",
    "    message=input('You: ')\n",
    "    if((message=='bye') or (message=='Bye')):\n",
    "        reply='Nice talking. See you later'\n",
    "        print('{}: {}'.format(bot.name,reply))\n",
    "        break\n",
    "    else:\n",
    "        reply=bot.get_response(message)\n",
    "        print('{}: {}'.format(bot.name,reply))"
   ]
  },
  {
   "cell_type": "code",
   "execution_count": null,
   "metadata": {},
   "outputs": [],
   "source": []
  }
 ],
 "metadata": {
  "kernelspec": {
   "display_name": "Python 3",
   "language": "python",
   "name": "python3"
  },
  "language_info": {
   "codemirror_mode": {
    "name": "ipython",
    "version": 3
   },
   "file_extension": ".py",
   "mimetype": "text/x-python",
   "name": "python",
   "nbconvert_exporter": "python",
   "pygments_lexer": "ipython3",
   "version": "3.7.6"
  }
 },
 "nbformat": 4,
 "nbformat_minor": 4
}
